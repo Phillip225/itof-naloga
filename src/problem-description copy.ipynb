{
 "cells": [
  {
   "attachments": {},
   "cell_type": "markdown",
   "metadata": {},
   "source": [
    "# iToF - indirect time of flight"
   ]
  },
  {
   "attachments": {},
   "cell_type": "markdown",
   "metadata": {},
   "source": [
    "Oddan signal **T**: $$T = I * \\sin{(2\\pi f_m t)}$$\n",
    "Modulirni signal **S**: $$S = \\sin{(2\\pi f_m t)}$$\n",
    "Odbit signal **R**: $$R = \\delta * I * \\sin{(2\\pi f_m t - \\Delta\\varphi)} + A$$"
   ]
  },
  {
   "cell_type": "code",
   "execution_count": 33,
   "metadata": {},
   "outputs": [],
   "source": [
    "import numpy as np\n",
    "import matplotlib.pyplot as plt\n",
    "import scipy.constants as const\n",
    "from numba import jit\n",
    "from numba import cfunc"
   ]
  },
  {
   "cell_type": "code",
   "execution_count": 56,
   "metadata": {},
   "outputs": [],
   "source": [
    "@cfunc(\"double(double, double)\")\n",
    "def phase_change(f, d):\n",
    "    \"\"\"Returns the phase change of the reflected signal.\n",
    "    \n",
    "    Parameters\n",
    "    ----------\n",
    "    f : float\n",
    "        Frequency of the transmitted signal\n",
    "    d : float\n",
    "        Distance between transmitter and the obstacle\n",
    "        \n",
    "    Returns\n",
    "    -------\n",
    "    float\n",
    "        Phase change of the reflected signal\n",
    "    \"\"\"\n",
    "    return (2 * np.pi * f * 2 * d / const.c)"
   ]
  },
  {
   "cell_type": "code",
   "execution_count": 117,
   "metadata": {},
   "outputs": [],
   "source": [
    "@jit\n",
    "def get_modulated_signals(t, f, d, I=0.5, dI=1):\n",
    "    \"\"\"Returns the transmitted, reflected and modulated signals.\n",
    "    \n",
    "    Parameters\n",
    "    ----------\n",
    "    t : numpy.ndarray\n",
    "        Time values for which the signal should be calculated\n",
    "    f : float\n",
    "        Frequency of the transmitted signal\n",
    "    I : float\n",
    "        Amplitude of transmitted signal\n",
    "    d : float\n",
    "        Distance between transmitter and the obstacle\n",
    "    dI : float\n",
    "        Amplitude change of the reflected signal\n",
    "        \n",
    "    Returns\n",
    "    -------\n",
    "    numpy.ndarray\n",
    "        Transmitted signal\n",
    "    numpy.ndarray\n",
    "        Reflected signal\n",
    "    numpy.ndarray\n",
    "        0 phase shifted modulated signal\n",
    "    numpy.ndarray\n",
    "        90 degree phase shifted modulated signal\n",
    "    numpy.ndarray\n",
    "        180 degree phase shifted modulated signal\n",
    "    numpy.ndarray\n",
    "        270 degree phase shifted modulated signal\n",
    "    \"\"\"\n",
    "    # Transmitted signal\n",
    "    s_t = I * np.sin(2 * np.pi * f * t)\n",
    "\n",
    "    # Reflected signal\n",
    "    # Phase change of the reflected signal\n",
    "    dP = phase_change(d, f)\n",
    "    s_r = dI * I * np.sin(2 * np.pi * f * t - dP)\n",
    "\n",
    "    # Modulated signals\n",
    "    s_m_0 = np.sin(2 * np.pi * f * t)\n",
    "    s_m_90 = np.sin(2 * np.pi * f * t - np.pi / 2)\n",
    "    s_m_180 = np.sin(2 * np.pi * f * t - np.pi)\n",
    "    s_m_270 = np.sin(2 * np.pi * f * t - 3 * np.pi / 2)\n",
    "\n",
    "    return s_t, s_r, s_m_0, s_m_90, s_m_180, s_m_270"
   ]
  },
  {
   "cell_type": "code",
   "execution_count": 118,
   "metadata": {},
   "outputs": [],
   "source": [
    "def int_indexes(x, a, b):\n",
    "    idx_a = np.argmin(np.abs(x - a))\n",
    "    idx_b = np.argmin(np.abs(x - b))\n",
    "    return idx_a, idx_b"
   ]
  },
  {
   "cell_type": "code",
   "execution_count": 161,
   "metadata": {},
   "outputs": [],
   "source": [
    "def plot_signals():\n",
    "    s_t, s_r, s_m_0, s_m_90, *_ = get_modulated_signals(t_s, f_m, d, I)\n",
    "    s_rs = s_r * s_m_0 \n",
    "    s_r90s = s_r * s_m_90\n",
    "    lim = 100\n",
    "\n",
    "    plt.figure(figsize=(12, 8))\n",
    "    plt.subplot(221)\n",
    "    plt.plot(t_ns, s_t, label=\"Transmitted signal\", color=\"blue\")\n",
    "    plt.plot(t_ns, s_r, label=\"Reflected signal\", color=\"red\")\n",
    "    plt.xlim(0, lim)\n",
    "    plt.xlabel(\"Time [ns]\")\n",
    "    plt.ylabel(\"Amplitude\")\n",
    "    plt.grid()\n",
    "    plt.legend()\n",
    "\n",
    "    plt.subplot(222)\n",
    "    plt.plot(t_ns, s_m_0, label=\"0 phase modulated signal\", color=\"green\")\n",
    "    plt.plot(t_ns, s_m_90, label=\"90 phase modulated signal\", color=\"lightgreen\")\n",
    "    plt.xlim(0, lim)\n",
    "    plt.xlabel(\"Time [ns]\")\n",
    "    plt.ylabel(\"Amplitude\")\n",
    "    plt.grid()\n",
    "    plt.legend()\n",
    "\n",
    "    plt.subplot(212)\n",
    "    plt.xlim(0, lim)\n",
    "    plt.plot(t_ns, s_rs, label=\"Reflected and 0 phase modulated signal\", color=\"#55a9aa\")\n",
    "    plt.plot(t_ns, s_r90s, label=\"Reflected and 90 phase modulated signal\", color=\"orange\")\n",
    "    plt.xlabel(\"Time [ns]\")\n",
    "    plt.ylabel(\"Amplitude\")\n",
    "    plt.grid()\n",
    "    plt.legend()\n",
    "\n",
    "\n",
    "    plt.tight_layout()\n",
    "    plt.show()\n",
    "\n",
    "def test_distance():\n",
    "    dP = phase_change(f_m, d)  # Phase change of the reflected signal\n",
    "    _, s_r, s_m_0, s_m_90, *_ = get_modulated_signals(t_s, f_m, d, I)\n",
    "\n",
    "    s_rs = s_r * s_m_0 # Product of the reflected and 0 phase modulated signal\n",
    "    s_r90s = s_r * s_m_90 # Product of the reflected and 90 phase modulated signal\n",
    "\n",
    "\n",
    "    T_int = 12 * Tp # Whole number of time periods between two pulses\n",
    "\n",
    "    # Integration of the product of the reflected and modulated signals\n",
    "    ia, ib = int_indexes(t_s, 0, T_int)\n",
    "    s_rs_int = np.trapz(s_rs[ia:ib], t_s[ia:ib])\n",
    "    s_r90s_int = np.trapz(s_r90s[ia:ib], t_s[ia:ib])\n",
    "\n",
    "    dP_calc = np.arctan(s_r90s_int / s_rs_int) # calculated phase change of the reflected signal\n",
    "    d_calc = (dP_calc)* const.c / (2 * np.pi * f_m) # calculated distance between transmitter and the obstacle\n",
    "\n",
    "    print(\"distance: {:.2f} m\".format(d))\n",
    "    print(\"\\tCalculated phase change: {:.2f} [{:.2f}] rad\".format(dP_calc, dP))\n",
    "    print(\"\\tCalculated distance: {:.2f} [{:.2f}] m\".format(d_calc, d))\n",
    "\n"
   ]
  },
  {
   "cell_type": "code",
   "execution_count": 163,
   "metadata": {},
   "outputs": [],
   "source": [
    "# Time axis\n",
    "t_ns = np.arange(0, 1e3, 1e-3)\n",
    "t_s = t_ns / 1e9"
   ]
  },
  {
   "cell_type": "code",
   "execution_count": 164,
   "metadata": {},
   "outputs": [
    {
     "name": "stdout",
     "output_type": "stream",
     "text": [
      "Wavelength: 29.98 m\n",
      "Time interval between two pulses: 100.00 ns\n",
      "Phase change of the reflected signal: 15.72 rad\n"
     ]
    }
   ],
   "source": [
    "# Parameters\n",
    "f_m = 1e7           # Frequency of the transmitted signal\n",
    "I = 5               # Amplitude of transmitted signal\n",
    "d = 30               # distance between transmitter and the obstacle\n",
    "dI = 0.5            # Amplitude ch# Parameters\n",
    "f_m = 1e7           # Frequency of the transmitted signal\n",
    "\n",
    "# Calculated parameters\n",
    "wl = const.c / f_m  # Wavelength\n",
    "Tp = 1 / f_m        # Time period between two pulses\n",
    "dP = phase_change(f_m, d)  # Phase change of the reflected signal\n",
    "\n",
    "print(\"Wavelength: {:.2f} m\".format(wl))\n",
    "print(\"Time interval between two pulses: {:.2f} ns\".format(Tp * 1e9))\n",
    "print(\"Phase change of the reflected signal: {:.2f} rad\".format(dP))"
   ]
  },
  {
   "cell_type": "code",
   "execution_count": 172,
   "metadata": {},
   "outputs": [
    {
     "name": "stdout",
     "output_type": "stream",
     "text": [
      "distance: 4.00 m\n",
      "\tCalculated phase change: -1.46 [4.82] rad\n",
      "\tCalculated distance: -6.99 [4.00] m\n"
     ]
    }
   ],
   "source": [
    "d = 4\n",
    "test_distance()"
   ]
  },
  {
   "cell_type": "code",
   "execution_count": null,
   "metadata": {},
   "outputs": [],
   "source": []
  },
  {
   "cell_type": "code",
   "execution_count": null,
   "metadata": {},
   "outputs": [],
   "source": []
  }
 ],
 "metadata": {
  "kernelspec": {
   "display_name": "py39",
   "language": "python",
   "name": "python3"
  },
  "language_info": {
   "codemirror_mode": {
    "name": "ipython",
    "version": 3
   },
   "file_extension": ".py",
   "mimetype": "text/x-python",
   "name": "python",
   "nbconvert_exporter": "python",
   "pygments_lexer": "ipython3",
   "version": "3.9.5"
  },
  "orig_nbformat": 4
 },
 "nbformat": 4,
 "nbformat_minor": 2
}
